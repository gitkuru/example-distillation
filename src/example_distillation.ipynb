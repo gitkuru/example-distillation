{
 "cells": [
  {
   "cell_type": "markdown",
   "metadata": {},
   "source": [
    "# Distillationのサンプル"
   ]
  },
  {
   "cell_type": "markdown",
   "metadata": {},
   "source": [
    "モジュールの再読み込み iPython"
   ]
  },
  {
   "cell_type": "code",
   "execution_count": 2,
   "metadata": {},
   "outputs": [
    {
     "name": "stdout",
     "output_type": "stream",
     "text": [
      "The autoreload extension is already loaded. To reload it, use:\n",
      "  %reload_ext autoreload\n"
     ]
    }
   ],
   "source": [
    "%load_ext autoreload\n",
    "%autoreload 2"
   ]
  },
  {
   "cell_type": "markdown",
   "metadata": {},
   "source": [
    "matplotlibの描画有効"
   ]
  },
  {
   "cell_type": "code",
   "execution_count": 3,
   "metadata": {},
   "outputs": [],
   "source": [
    "%matplotlib inline"
   ]
  },
  {
   "cell_type": "markdown",
   "metadata": {},
   "source": [
    "蒸留のサンプルコード"
   ]
  },
  {
   "cell_type": "code",
   "execution_count": 12,
   "metadata": {
    "scrolled": true
   },
   "outputs": [
    {
     "name": "stdout",
     "output_type": "stream",
     "text": [
      "Teacher model with Hard target\n",
      "_________________________________________________________________\n",
      "Layer (type)                 Output Shape              Param #   \n",
      "=================================================================\n",
      "conv2d_30 (Conv2D)           (None, 26, 26, 32)        320       \n",
      "_________________________________________________________________\n",
      "conv2d_31 (Conv2D)           (None, 24, 24, 64)        18496     \n",
      "_________________________________________________________________\n",
      "max_pooling2d_15 (MaxPooling (None, 12, 12, 64)        0         \n",
      "_________________________________________________________________\n",
      "dropout_29 (Dropout)         (None, 12, 12, 64)        0         \n",
      "_________________________________________________________________\n",
      "flatten_15 (Flatten)         (None, 9216)              0         \n",
      "_________________________________________________________________\n",
      "dense_29 (Dense)             (None, 128)               1179776   \n",
      "_________________________________________________________________\n",
      "dropout_30 (Dropout)         (None, 128)               0         \n",
      "_________________________________________________________________\n",
      "dense_30 (Dense)             (None, 10)                1290      \n",
      "_________________________________________________________________\n",
      "activation_28 (Activation)   (None, 10)                0         \n",
      "=================================================================\n",
      "Total params: 1,199,882\n",
      "Trainable params: 1,199,882\n",
      "Non-trainable params: 0\n",
      "_________________________________________________________________\n",
      "Train on 60000 samples, validate on 10000 samples\n",
      "Epoch 1/1\n",
      "60000/60000 [==============================] - 199s - loss: 0.1882 - acc: 0.9424 - val_loss: 0.0452 - val_acc: 0.9849\n"
     ]
    },
    {
     "data": {
      "image/png": "[encoded data removed]",
      "text/plain": [
       "<matplotlib.figure.Figure at 0x1aa26157048>"
      ]
     },
     "metadata": {},
     "output_type": "display_data"
    },
    {
     "name": "stdout",
     "output_type": "stream",
     "text": [
      "[0.045187917368928902, 0.9849]\n",
      "Student model with Hard target\n",
      "_________________________________________________________________\n",
      "Layer (type)                 Output Shape              Param #   \n",
      "=================================================================\n",
      "conv2d_32 (Conv2D)           (None, 26, 26, 16)        160       \n",
      "_________________________________________________________________\n",
      "conv2d_33 (Conv2D)           (None, 24, 24, 16)        2320      \n",
      "_________________________________________________________________\n",
      "max_pooling2d_16 (MaxPooling (None, 12, 12, 16)        0         \n",
      "_________________________________________________________________\n",
      "dropout_31 (Dropout)         (None, 12, 12, 16)        0         \n",
      "_________________________________________________________________\n",
      "flatten_16 (Flatten)         (None, 2304)              0         \n",
      "_________________________________________________________________\n",
      "dense_31 (Dense)             (None, 32)                73760     \n",
      "_________________________________________________________________\n",
      "dropout_32 (Dropout)         (None, 32)                0         \n",
      "_________________________________________________________________\n",
      "dense_32 (Dense)             (None, 10)                330       \n",
      "_________________________________________________________________\n",
      "activation_29 (Activation)   (None, 10)                0         \n",
      "=================================================================\n",
      "Total params: 76,570\n",
      "Trainable params: 76,570\n",
      "Non-trainable params: 0\n",
      "_________________________________________________________________\n",
      "Student model with Soft target\n",
      "Epoch 1/1\n",
      "60000/60000 [==============================] - 125s - loss: 0.0025 - acc: 0.1090   \n",
      "[1.5492152359008788, 0.9657]\n"
     ]
    }
   ],
   "source": [
    "# -*- coding: utf_8 -*-\n",
    "''' Main Functions ''' \n",
    "\n",
    "#----------------------------------------------------------\n",
    "# Imports\n",
    "#----------------------------------------------------------\n",
    "from ex_model import ModelTeacher, ModelStudent\n",
    "from ex_dataset import DatasetMNIST\n",
    "from ex_util  import Util\n",
    "\n",
    "NUM_EPOCH = 1\n",
    "NUM_BATCH_SIZE = 32\n",
    "\n",
    "#----------------------------------------------------------\n",
    "# Functions\n",
    "#----------------------------------------------------------\n",
    "def training():\n",
    "    \n",
    "    # データ取得\n",
    "    #--------------------------------------\n",
    "    dataset = DatasetMNIST()\n",
    "    dataset.create_conv()\n",
    "\n",
    "    # 教師モデルをハードターゲットで訓練\n",
    "    #--------------------------------------\n",
    "    print(\"Teacher model with Hard target\")\n",
    "    teacher = ModelTeacher()\n",
    "    teacher.set_dataset(dataset)\n",
    "    teacher.create()\n",
    "    teacher.show()\n",
    "    teacher.fit(batch_size=NUM_BATCH_SIZE, epochs=NUM_EPOCH)\n",
    "    teacher.result()\n",
    "    teacher.evaluate()\n",
    "\n",
    "    # 生徒モデルをハードターゲットで訓練\n",
    "    #--------------------------------------\n",
    "    print(\"Student model with Hard target\")\n",
    "    student = ModelStudent()\n",
    "    student.set_dataset(dataset)\n",
    "    student.create()\n",
    "    student.show()\n",
    "    #student.fit(batch_size=NUM_BATCH_SIZE, epochs=NUM_EPOCH)\n",
    "    #student.result()\n",
    "    #student.evaluate()\n",
    "\n",
    "\n",
    "    # 生徒モデルをソフトターゲットで訓練\n",
    "    #--------------------------------------\n",
    "    print(\"Student model with Soft target\")\n",
    "    student2 = ModelStudent()\n",
    "    student2.set_dataset(dataset)\n",
    "    student2.create()\n",
    "\n",
    "    # 教師モデルのソフトマックス層を温度付きに変更\n",
    "    teacher.set_softmax_temperature(10)\n",
    "    student2.set_softmax_temperature(10)\n",
    "\n",
    "    # 教師モデルの温度付き出力を教師として生徒モデルを訓練\n",
    "    student2.set_teacher(teacher)\n",
    "    student2.fit_with_teacher(batch_size=NUM_BATCH_SIZE, epochs=NUM_EPOCH)\n",
    "    student2.result()\n",
    "\n",
    "    # 評価前に温度を1に設定\n",
    "    student2.set_softmax_temperature(1)\n",
    "    student2.evaluate()\n",
    "\n",
    "#----------------------------------------------------------\n",
    "# 実行スクリプト\n",
    "#----------------------------------------------------------\n",
    "if __name__ == '__main__':\n",
    "    training()\n"
   ]
  }
 ],
 "metadata": {
  "kernelspec": {
   "display_name": "Python 3",
   "language": "python",
   "name": "python3"
  },
  "language_info": {
   "codemirror_mode": {
    "name": "ipython",
    "version": 3
   },
   "file_extension": ".py",
   "mimetype": "text/x-python",
   "name": "python",
   "nbconvert_exporter": "python",
   "pygments_lexer": "ipython3",
   "version": "3.6.3"
  }
 },
 "nbformat": 4,
 "nbformat_minor": 2
}
